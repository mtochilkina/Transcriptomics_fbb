{
  "nbformat": 4,
  "nbformat_minor": 0,
  "metadata": {
    "colab": {
      "provenance": [],
      "collapsed_sections": [],
      "toc_visible": true
    },
    "kernelspec": {
      "name": "python3",
      "display_name": "Python 3"
    },
    "language_info": {
      "name": "python"
    }
  },
  "cells": [
    {
      "cell_type": "markdown",
      "source": [
        "# Семинар 3. Определение максимально правдоподобных распределений для данных\n",
        "\n",
        "Для того, чтобы корректно применять статистические тесты, а также выуживать из данных максимальное количество информации, которая в них хранится, необходимо точно понимать, по какому закону эти данные распределены.\n",
        "\n",
        "На этом семинаре мы разберём, как корректно понять, что именно за распределение в данных мы наблюдаем. Для примера мы загрузим набор данных из ресурса <a href=\"https://jhubiostatistics.shinyapps.io\">ReCount2</a> (в целом это полезный ресурс в случае, если вам необходимо загрузить из открытых источников именно RNA-Seq count data)."
      ],
      "metadata": {
        "id": "oL23uYAgGpwu"
      }
    },
    {
      "cell_type": "code",
      "execution_count": null,
      "metadata": {
        "id": "A35F75zRGLg4",
        "colab": {
          "base_uri": "https://localhost:8080/"
        },
        "outputId": "5290b0e8-36f7-49d8-d631-f689e8ae9ca4"
      },
      "outputs": [
        {
          "output_type": "stream",
          "name": "stdout",
          "text": [
            "Installing package into ‘/usr/local/lib/R/site-library’\n",
            "(as ‘lib’ is unspecified)\n",
            "trying URL 'https://cloud.r-project.org/src/contrib/fitdistrplus_1.1-8.tar.gz'\n",
            "Content type 'application/x-gzip' length 2434918 bytes (2.3 MB)\n",
            "==================================================\n",
            "downloaded 2.3 MB\n",
            "\n",
            "* installing *source* package ‘fitdistrplus’ ...\n",
            "** package ‘fitdistrplus’ successfully unpacked and MD5 sums checked\n",
            "** using staged installation\n",
            "** R\n",
            "** data\n",
            "** inst\n",
            "** byte-compile and prepare package for lazy loading\n",
            "** help\n",
            "*** installing help indices\n",
            "** building package indices\n",
            "** installing vignettes\n",
            "** testing if installed package can be loaded from temporary location\n",
            "** testing if installed package can be loaded from final location\n",
            "** testing if installed package keeps a record of temporary installation path\n",
            "* DONE (fitdistrplus)\n",
            "\n",
            "The downloaded source packages are in\n",
            "\t‘/tmp/Rtmp5zFcXm/downloaded_packages’\n",
            "/usr/local/lib/python3.7/dist-packages/gdown/cli.py:131: FutureWarning: Option `--id` was deprecated in version 4.3.1 and will be removed in 5.0. You don't need to pass it anymore to use a file ID.\n",
            "  category=FutureWarning,\n",
            "Downloading...\n",
            "From: https://drive.google.com/uc?id=1nlpCcK6LoqEJnvCqEdcUFNElZSoz_3Kg\n",
            "To: /content/LUAD_counts.tsv\n",
            "100% 3.18M/3.18M [00:00<00:00, 220MB/s]\n"
          ]
        }
      ],
      "source": [
        "# Загрузка R magic\n",
        "%load_ext rpy2.ipython\n",
        "\n",
        "# Установка нужных пакетов\n",
        "!Rscript -e 'install.packages(\"fitdistrplus\", repos=\"https://cloud.r-project.org\")'\n",
        "\n",
        "# Загрузка датасета\n",
        "!gdown --id 1nlpCcK6LoqEJnvCqEdcUFNElZSoz_3Kg"
      ]
    },
    {
      "cell_type": "code",
      "source": [
        "!gdown --id 1nlpCcK6LoqEJnvCqEdcUFNElZSoz_3Kg"
      ],
      "metadata": {
        "id": "4UVcunJV2r_h",
        "colab": {
          "base_uri": "https://localhost:8080/"
        },
        "outputId": "2c0481ec-7add-4198-de04-4e6d43820ab7"
      },
      "execution_count": null,
      "outputs": [
        {
          "output_type": "stream",
          "name": "stdout",
          "text": [
            "/usr/local/lib/python3.7/dist-packages/gdown/cli.py:131: FutureWarning: Option `--id` was deprecated in version 4.3.1 and will be removed in 5.0. You don't need to pass it anymore to use a file ID.\n",
            "  category=FutureWarning,\n",
            "Downloading...\n",
            "From: https://drive.google.com/uc?id=1nlpCcK6LoqEJnvCqEdcUFNElZSoz_3Kg\n",
            "To: /content/LUAD_counts.tsv\n",
            "100% 3.18M/3.18M [00:00<00:00, 162MB/s]\n"
          ]
        }
      ]
    },
    {
      "cell_type": "code",
      "source": [
        "import pandas as pd\n",
        "import seaborn as sns\n",
        "import matplotlib.pyplot as plt\n",
        "import numpy as np\n",
        "\n",
        "# Настройка отображения\n",
        "plt.rcParams[\"figure.dpi\"] = 100"
      ],
      "metadata": {
        "id": "rXXRTE3TITtd"
      },
      "execution_count": 3,
      "outputs": []
    },
    {
      "cell_type": "code",
      "source": [
        "# Прочтение датасета\n",
        "df = pd.read_csv(\"LUAD_counts.tsv\", sep=\"\\t\")\n",
        "df.index = [gene.split(\".\")[0] for gene in df.gene_name]\n",
        "del df[\"gene_name\"]\n",
        "df = df.T"
      ],
      "metadata": {
        "id": "4I7kQLaJMXw4"
      },
      "execution_count": null,
      "outputs": []
    },
    {
      "cell_type": "code",
      "source": [
        "df.head()"
      ],
      "metadata": {
        "id": "qSfOUB05Wij_",
        "colab": {
          "base_uri": "https://localhost:8080/",
          "height": 299
        },
        "outputId": "4e2fa228-bb73-4264-969a-d7919138ef64"
      },
      "execution_count": null,
      "outputs": [
        {
          "output_type": "execute_result",
          "data": {
            "text/plain": [
              "          TSPAN6  TNMD  DPM1  SCYL3  C1orf112   FGR    CFH  FUCA2   GCLC  \\\n",
              "sample_0    4275     0  1071    630       542   372  10445   6760  31744   \n",
              "sample_1    1536     0   765    510       172   911   4290   1097    807   \n",
              "sample_2    5009    13  2731    919       321  2299   9368   3812   2704   \n",
              "sample_3    1889     0  1941    548       301   879   5994   2310   2552   \n",
              "sample_4    1329     0  1395    297       320   387   6215   3142    685   \n",
              "\n",
              "          NFYA  ...  ACTL10  AC119733  AC020765  AC010980  AC004233  AL451106  \\\n",
              "sample_0  2022  ...       0         0         0        11         0         0   \n",
              "sample_1  1043  ...       0         0         0        15         1         0   \n",
              "sample_2  2496  ...       0         0         0        36         2         0   \n",
              "sample_3  1332  ...       0         0         1        17         0         0   \n",
              "sample_4  1676  ...       0         0         0         9         3         0   \n",
              "\n",
              "          AC008763  AC006486  AL391628  AP006621  \n",
              "sample_0         0         0         6        10  \n",
              "sample_1         1         0         6         9  \n",
              "sample_2         0         0        15        18  \n",
              "sample_3         0         0         3        22  \n",
              "sample_4         0         0         2         9  \n",
              "\n",
              "[5 rows x 19962 columns]"
            ],
            "text/html": [
              "\n",
              "  <div id=\"df-1b7471c0-3ceb-4995-b82b-11bd5784bdc3\">\n",
              "    <div class=\"colab-df-container\">\n",
              "      <div>\n",
              "<style scoped>\n",
              "    .dataframe tbody tr th:only-of-type {\n",
              "        vertical-align: middle;\n",
              "    }\n",
              "\n",
              "    .dataframe tbody tr th {\n",
              "        vertical-align: top;\n",
              "    }\n",
              "\n",
              "    .dataframe thead th {\n",
              "        text-align: right;\n",
              "    }\n",
              "</style>\n",
              "<table border=\"1\" class=\"dataframe\">\n",
              "  <thead>\n",
              "    <tr style=\"text-align: right;\">\n",
              "      <th></th>\n",
              "      <th>TSPAN6</th>\n",
              "      <th>TNMD</th>\n",
              "      <th>DPM1</th>\n",
              "      <th>SCYL3</th>\n",
              "      <th>C1orf112</th>\n",
              "      <th>FGR</th>\n",
              "      <th>CFH</th>\n",
              "      <th>FUCA2</th>\n",
              "      <th>GCLC</th>\n",
              "      <th>NFYA</th>\n",
              "      <th>...</th>\n",
              "      <th>ACTL10</th>\n",
              "      <th>AC119733</th>\n",
              "      <th>AC020765</th>\n",
              "      <th>AC010980</th>\n",
              "      <th>AC004233</th>\n",
              "      <th>AL451106</th>\n",
              "      <th>AC008763</th>\n",
              "      <th>AC006486</th>\n",
              "      <th>AL391628</th>\n",
              "      <th>AP006621</th>\n",
              "    </tr>\n",
              "  </thead>\n",
              "  <tbody>\n",
              "    <tr>\n",
              "      <th>sample_0</th>\n",
              "      <td>4275</td>\n",
              "      <td>0</td>\n",
              "      <td>1071</td>\n",
              "      <td>630</td>\n",
              "      <td>542</td>\n",
              "      <td>372</td>\n",
              "      <td>10445</td>\n",
              "      <td>6760</td>\n",
              "      <td>31744</td>\n",
              "      <td>2022</td>\n",
              "      <td>...</td>\n",
              "      <td>0</td>\n",
              "      <td>0</td>\n",
              "      <td>0</td>\n",
              "      <td>11</td>\n",
              "      <td>0</td>\n",
              "      <td>0</td>\n",
              "      <td>0</td>\n",
              "      <td>0</td>\n",
              "      <td>6</td>\n",
              "      <td>10</td>\n",
              "    </tr>\n",
              "    <tr>\n",
              "      <th>sample_1</th>\n",
              "      <td>1536</td>\n",
              "      <td>0</td>\n",
              "      <td>765</td>\n",
              "      <td>510</td>\n",
              "      <td>172</td>\n",
              "      <td>911</td>\n",
              "      <td>4290</td>\n",
              "      <td>1097</td>\n",
              "      <td>807</td>\n",
              "      <td>1043</td>\n",
              "      <td>...</td>\n",
              "      <td>0</td>\n",
              "      <td>0</td>\n",
              "      <td>0</td>\n",
              "      <td>15</td>\n",
              "      <td>1</td>\n",
              "      <td>0</td>\n",
              "      <td>1</td>\n",
              "      <td>0</td>\n",
              "      <td>6</td>\n",
              "      <td>9</td>\n",
              "    </tr>\n",
              "    <tr>\n",
              "      <th>sample_2</th>\n",
              "      <td>5009</td>\n",
              "      <td>13</td>\n",
              "      <td>2731</td>\n",
              "      <td>919</td>\n",
              "      <td>321</td>\n",
              "      <td>2299</td>\n",
              "      <td>9368</td>\n",
              "      <td>3812</td>\n",
              "      <td>2704</td>\n",
              "      <td>2496</td>\n",
              "      <td>...</td>\n",
              "      <td>0</td>\n",
              "      <td>0</td>\n",
              "      <td>0</td>\n",
              "      <td>36</td>\n",
              "      <td>2</td>\n",
              "      <td>0</td>\n",
              "      <td>0</td>\n",
              "      <td>0</td>\n",
              "      <td>15</td>\n",
              "      <td>18</td>\n",
              "    </tr>\n",
              "    <tr>\n",
              "      <th>sample_3</th>\n",
              "      <td>1889</td>\n",
              "      <td>0</td>\n",
              "      <td>1941</td>\n",
              "      <td>548</td>\n",
              "      <td>301</td>\n",
              "      <td>879</td>\n",
              "      <td>5994</td>\n",
              "      <td>2310</td>\n",
              "      <td>2552</td>\n",
              "      <td>1332</td>\n",
              "      <td>...</td>\n",
              "      <td>0</td>\n",
              "      <td>0</td>\n",
              "      <td>1</td>\n",
              "      <td>17</td>\n",
              "      <td>0</td>\n",
              "      <td>0</td>\n",
              "      <td>0</td>\n",
              "      <td>0</td>\n",
              "      <td>3</td>\n",
              "      <td>22</td>\n",
              "    </tr>\n",
              "    <tr>\n",
              "      <th>sample_4</th>\n",
              "      <td>1329</td>\n",
              "      <td>0</td>\n",
              "      <td>1395</td>\n",
              "      <td>297</td>\n",
              "      <td>320</td>\n",
              "      <td>387</td>\n",
              "      <td>6215</td>\n",
              "      <td>3142</td>\n",
              "      <td>685</td>\n",
              "      <td>1676</td>\n",
              "      <td>...</td>\n",
              "      <td>0</td>\n",
              "      <td>0</td>\n",
              "      <td>0</td>\n",
              "      <td>9</td>\n",
              "      <td>3</td>\n",
              "      <td>0</td>\n",
              "      <td>0</td>\n",
              "      <td>0</td>\n",
              "      <td>2</td>\n",
              "      <td>9</td>\n",
              "    </tr>\n",
              "  </tbody>\n",
              "</table>\n",
              "<p>5 rows × 19962 columns</p>\n",
              "</div>\n",
              "      <button class=\"colab-df-convert\" onclick=\"convertToInteractive('df-1b7471c0-3ceb-4995-b82b-11bd5784bdc3')\"\n",
              "              title=\"Convert this dataframe to an interactive table.\"\n",
              "              style=\"display:none;\">\n",
              "        \n",
              "  <svg xmlns=\"http://www.w3.org/2000/svg\" height=\"24px\"viewBox=\"0 0 24 24\"\n",
              "       width=\"24px\">\n",
              "    <path d=\"M0 0h24v24H0V0z\" fill=\"none\"/>\n",
              "    <path d=\"M18.56 5.44l.94 2.06.94-2.06 2.06-.94-2.06-.94-.94-2.06-.94 2.06-2.06.94zm-11 1L8.5 8.5l.94-2.06 2.06-.94-2.06-.94L8.5 2.5l-.94 2.06-2.06.94zm10 10l.94 2.06.94-2.06 2.06-.94-2.06-.94-.94-2.06-.94 2.06-2.06.94z\"/><path d=\"M17.41 7.96l-1.37-1.37c-.4-.4-.92-.59-1.43-.59-.52 0-1.04.2-1.43.59L10.3 9.45l-7.72 7.72c-.78.78-.78 2.05 0 2.83L4 21.41c.39.39.9.59 1.41.59.51 0 1.02-.2 1.41-.59l7.78-7.78 2.81-2.81c.8-.78.8-2.07 0-2.86zM5.41 20L4 18.59l7.72-7.72 1.47 1.35L5.41 20z\"/>\n",
              "  </svg>\n",
              "      </button>\n",
              "      \n",
              "  <style>\n",
              "    .colab-df-container {\n",
              "      display:flex;\n",
              "      flex-wrap:wrap;\n",
              "      gap: 12px;\n",
              "    }\n",
              "\n",
              "    .colab-df-convert {\n",
              "      background-color: #E8F0FE;\n",
              "      border: none;\n",
              "      border-radius: 50%;\n",
              "      cursor: pointer;\n",
              "      display: none;\n",
              "      fill: #1967D2;\n",
              "      height: 32px;\n",
              "      padding: 0 0 0 0;\n",
              "      width: 32px;\n",
              "    }\n",
              "\n",
              "    .colab-df-convert:hover {\n",
              "      background-color: #E2EBFA;\n",
              "      box-shadow: 0px 1px 2px rgba(60, 64, 67, 0.3), 0px 1px 3px 1px rgba(60, 64, 67, 0.15);\n",
              "      fill: #174EA6;\n",
              "    }\n",
              "\n",
              "    [theme=dark] .colab-df-convert {\n",
              "      background-color: #3B4455;\n",
              "      fill: #D2E3FC;\n",
              "    }\n",
              "\n",
              "    [theme=dark] .colab-df-convert:hover {\n",
              "      background-color: #434B5C;\n",
              "      box-shadow: 0px 1px 3px 1px rgba(0, 0, 0, 0.15);\n",
              "      filter: drop-shadow(0px 1px 2px rgba(0, 0, 0, 0.3));\n",
              "      fill: #FFFFFF;\n",
              "    }\n",
              "  </style>\n",
              "\n",
              "      <script>\n",
              "        const buttonEl =\n",
              "          document.querySelector('#df-1b7471c0-3ceb-4995-b82b-11bd5784bdc3 button.colab-df-convert');\n",
              "        buttonEl.style.display =\n",
              "          google.colab.kernel.accessAllowed ? 'block' : 'none';\n",
              "\n",
              "        async function convertToInteractive(key) {\n",
              "          const element = document.querySelector('#df-1b7471c0-3ceb-4995-b82b-11bd5784bdc3');\n",
              "          const dataTable =\n",
              "            await google.colab.kernel.invokeFunction('convertToInteractive',\n",
              "                                                     [key], {});\n",
              "          if (!dataTable) return;\n",
              "\n",
              "          const docLinkHtml = 'Like what you see? Visit the ' +\n",
              "            '<a target=\"_blank\" href=https://colab.research.google.com/notebooks/data_table.ipynb>data table notebook</a>'\n",
              "            + ' to learn more about interactive tables.';\n",
              "          element.innerHTML = '';\n",
              "          dataTable['output_type'] = 'display_data';\n",
              "          await google.colab.output.renderOutput(dataTable, element);\n",
              "          const docLink = document.createElement('div');\n",
              "          docLink.innerHTML = docLinkHtml;\n",
              "          element.appendChild(docLink);\n",
              "        }\n",
              "      </script>\n",
              "    </div>\n",
              "  </div>\n",
              "  "
            ]
          },
          "metadata": {},
          "execution_count": 5
        }
      ]
    },
    {
      "cell_type": "markdown",
      "source": [
        "Первое, что необходимо сделать, &mdash; это посмотреть на распределение данных глазами, построив гистограмму."
      ],
      "metadata": {
        "id": "wwzXjAqnLqMb"
      }
    },
    {
      "cell_type": "code",
      "source": [
        "gene = \"MT-CO1\"\n",
        "expr = np.array(df[gene])\n",
        "sns.histplot(expr, bins=20)"
      ],
      "metadata": {
        "colab": {
          "base_uri": "https://localhost:8080/",
          "height": 397
        },
        "id": "EsenuQB8KvtG",
        "outputId": "56bef352-80f9-48f4-847d-3577aff4d493"
      },
      "execution_count": null,
      "outputs": [
        {
          "output_type": "execute_result",
          "data": {
            "text/plain": [
              "<matplotlib.axes._subplots.AxesSubplot at 0x7f2b74d99390>"
            ]
          },
          "metadata": {},
          "execution_count": 5
        },
        {
          "output_type": "display_data",
          "data": {
            "text/plain": [
              "<Figure size 600x400 with 1 Axes>"
            ],
            "image/png": "[encoded data removed]"
          },
          "metadata": {
            "needs_background": "light"
          }
        }
      ]
    },
    {
      "cell_type": "markdown",
      "source": [
        "В принципе похоже на нормальное распределение, не так ли? Легко можно представить, как именно на таких данных запускают классический t-test. Однако давайте оценим его нормальность при помощи классического теста, который проходят в университете."
      ],
      "metadata": {
        "id": "OVMfEWoYMi9_"
      }
    },
    {
      "cell_type": "code",
      "source": [
        "from scipy.stats import shapiro\n",
        "\n",
        "stat, p = shapiro(df[gene])\n",
        "print(f\"Statistics={stat:3f}, p={p:3f}\")"
      ],
      "metadata": {
        "colab": {
          "base_uri": "https://localhost:8080/"
        },
        "id": "xJxVOibALJQT",
        "outputId": "8b81800a-5313-45a0-eb72-3884ef19dc4f"
      },
      "execution_count": null,
      "outputs": [
        {
          "output_type": "stream",
          "name": "stdout",
          "text": [
            "Statistics=0.742976, p=0.000001\n"
          ]
        }
      ]
    },
    {
      "cell_type": "markdown",
      "source": [
        "Уже не выглядит так, что данные нормальные, да? Как вообще понимают, какое распределение описывает данные лучше всего? Для начала разберёмся, как оценивают, хорошо ли описываются данные каким-то распределением. При помощи пакета <code>fitdistrplus</code> для R попробуем описать наши данные нормальным распределением и разберём, что конкретно происходило."
      ],
      "metadata": {
        "id": "KOXS4zwnNXkI"
      }
    },
    {
      "cell_type": "markdown",
      "source": [
        "## Зависимость дисперсии от среднего"
      ],
      "metadata": {
        "id": "9FZQkmw34kB0"
      }
    },
    {
      "cell_type": "code",
      "source": [
        "means = np.mean(df.values, axis=0)\n",
        "vars = np.var(df.values, axis=0)\n",
        "\n",
        "means = means[vars > 0]\n",
        "vars = vars[vars > 0]\n",
        "\n",
        "means = np.log10(means)\n",
        "vars = np.log10(vars)"
      ],
      "metadata": {
        "id": "pl2ukcIa4jVk"
      },
      "execution_count": null,
      "outputs": []
    },
    {
      "cell_type": "code",
      "source": [
        "sns.set_style(\"ticks\")\n",
        "fig, ax = plt.subplots(figsize=(4, 4), dpi=100)\n",
        "\n",
        "ax.scatter(means, vars)\n",
        "ax.plot([-3, 12], [-3, 12], color=\"red\")\n",
        "ax.set_xlim(-3, 12)\n",
        "ax.set_ylim(-3, 12)\n",
        "ax.grid(alpha=0.3)\n",
        "\n",
        "ax.set_xlabel(\"log$_{10}$(Mean)\")\n",
        "ax.set_ylabel(\"log$_{10}$(Variance)\")"
      ],
      "metadata": {
        "colab": {
          "base_uri": "https://localhost:8080/",
          "height": 408
        },
        "id": "gLl0qT5U43_K",
        "outputId": "86ff6a12-c0dc-48ef-d233-14f1da1219ad"
      },
      "execution_count": null,
      "outputs": [
        {
          "output_type": "execute_result",
          "data": {
            "text/plain": [
              "Text(0, 0.5, 'log$_{10}$(Variance)')"
            ]
          },
          "metadata": {},
          "execution_count": 9
        },
        {
          "output_type": "display_data",
          "data": {
            "text/plain": [
              "<Figure size 400x400 with 1 Axes>"
            ],
            "image/png": "[encoded data removed]"
          },
          "metadata": {}
        }
      ]
    },
    {
      "cell_type": "markdown",
      "source": [
        "## Тестирование конкретного распределения\n",
        "\n",
        "Допустим, мы знаем, что наш набор данных описывается нормальным распределением (или каким-либо иным параметрическим распределением). Но как определить, какие именно параметры такого распределения? Мы можем найти максимально правдоподобную оценку такого распределения."
      ],
      "metadata": {
        "id": "GG7bEJS1S1rq"
      }
    },
    {
      "cell_type": "code",
      "source": [
        "%%R -i expr\n",
        "library(fitdistrplus)"
      ],
      "metadata": {
        "colab": {
          "base_uri": "https://localhost:8080/"
        },
        "id": "ZbijQGVwNCBn",
        "outputId": "d664346b-66fc-4c66-f7ad-5469248e5be0"
      },
      "execution_count": null,
      "outputs": [
        {
          "output_type": "stream",
          "name": "stderr",
          "text": [
            "WARNING:rpy2.rinterface_lib.callbacks:R[write to console]: Loading required package: MASS\n",
            "\n",
            "WARNING:rpy2.rinterface_lib.callbacks:R[write to console]: Loading required package: survival\n",
            "\n"
          ]
        }
      ]
    },
    {
      "cell_type": "code",
      "source": [
        "%%R\n",
        "data <- as.vector(expr)\n",
        "fit.norm <- fitdist(data, \"norm\")\n",
        "summary(fit.norm)"
      ],
      "metadata": {
        "colab": {
          "base_uri": "https://localhost:8080/"
        },
        "id": "rlOW9i9l6e5w",
        "outputId": "3b8b1883-727a-49a1-bb18-55e3d8b8f161"
      },
      "execution_count": null,
      "outputs": [
        {
          "output_type": "stream",
          "name": "stdout",
          "text": [
            "Fitting of the distribution ' norm ' by maximum likelihood \n",
            "Parameters : \n",
            "     estimate Std. Error\n",
            "mean 553010.3          0\n",
            "sd   464404.5          0\n",
            "Loglikelihood:  -578.698   AIC:  1161.396   BIC:  1164.774 \n",
            "Correlation matrix:\n",
            "     mean  sd\n",
            "mean    1 NaN\n",
            "sd    NaN   1\n",
            "\n"
          ]
        }
      ]
    },
    {
      "cell_type": "markdown",
      "source": [
        "Нарисуем графики для анализа:"
      ],
      "metadata": {
        "id": "Lrjz2n43Uz2O"
      }
    },
    {
      "cell_type": "code",
      "source": [
        "%%R -r 100 -w 800 -h 600\n",
        "plot(fit.norm)"
      ],
      "metadata": {
        "colab": {
          "base_uri": "https://localhost:8080/",
          "height": 617
        },
        "id": "7fpVCU-UPRzM",
        "outputId": "cd6a760a-e1e6-4808-f0be-e60bde26552e"
      },
      "execution_count": null,
      "outputs": [
        {
          "output_type": "display_data",
          "data": {
            "image/png": "[encoded data removed]"
          },
          "metadata": {}
        }
      ]
    },
    {
      "cell_type": "markdown",
      "source": [
        "Пока будем ориентироваться только на правдоподобие того, что данные порождены этим распределением. Как вы думаете, у нас высокое или низкое значение правдоподобия?"
      ],
      "metadata": {
        "id": "7NO78Y1mYmyw"
      }
    },
    {
      "cell_type": "markdown",
      "source": [
        "### Задание\n",
        "\n",
        "Сравните несколько распределений и определите, какое из них, по вашему мнению, лучше всего описывает данные. Для того, чтобы найти доступные для использования распределения, прочитайте документацию пакета по <a href=\"https://cran.r-project.org/web/packages/fitdistrplus/fitdistrplus.pdf\">ссылке</a>."
      ],
      "metadata": {
        "id": "NRyf-KIDghgQ"
      }
    },
    {
      "cell_type": "code",
      "source": [],
      "metadata": {
        "id": "OmHhKPqAggxY"
      },
      "execution_count": null,
      "outputs": []
    },
    {
      "cell_type": "markdown",
      "source": [
        "## Сравнение тестов между собой\n",
        "\n",
        "После того, как мы нашли Likelihood того, что наши данные порождены определённым распределением с определёнными параметрами, нам необходимо сравнить модели между собой, чтобы понять, какая из них описывает данные лучше. Казалось бы, можно сравнить правдоподобия и всё, однако у распределений есть ещё один важный параметр, который мы не учли, &mdash; это число параметров самой модели.\n",
        "\n",
        "Для того, чтобы учитывать число параметров самой модели, существует информационный критерий Акаике\n",
        "$\\mathrm{AIC} = 2k – 2(\\mathrm{LogLikelihood})$, где $k$ &mdash; это число параметров модели. И то распределение, которое будет иметь меньшее значение AIC, и будет более предпочтительным.\n",
        "\n",
        "Посмотрим заново на результаты того, как мы зафитили нашу модель:"
      ],
      "metadata": {
        "id": "ToaINyHFgOm7"
      }
    },
    {
      "cell_type": "code",
      "source": [
        "%%R\n",
        "summary(fit.norm)"
      ],
      "metadata": {
        "colab": {
          "base_uri": "https://localhost:8080/"
        },
        "id": "tXYRMJYciIy0",
        "outputId": "2ad1cd52-a85f-4bd7-bf29-e13d2178a9c8"
      },
      "execution_count": null,
      "outputs": [
        {
          "output_type": "stream",
          "name": "stdout",
          "text": [
            "Fitting of the distribution ' norm ' by maximum likelihood \n",
            "Parameters : \n",
            "     estimate Std. Error\n",
            "mean 553010.3          0\n",
            "sd   464404.5          0\n",
            "Loglikelihood:  -578.698   AIC:  1161.396   BIC:  1164.774 \n",
            "Correlation matrix:\n",
            "     mean  sd\n",
            "mean    1 NaN\n",
            "sd    NaN   1\n",
            "\n"
          ]
        }
      ]
    },
    {
      "cell_type": "markdown",
      "source": [
        "Так же мы можем сравнить CDF нашего распределения и тех распределений, которые мы зафитили:"
      ],
      "metadata": {
        "id": "xTnLhGstlPST"
      }
    },
    {
      "cell_type": "code",
      "source": [
        "%%R -r 100\n",
        "fit_n  <- fitdist(data, \"norm\")\n",
        "fit_p  <- fitdist(data, \"pois\")\n",
        "fit_nb  <- fitdist(data, \"nbinom\")\n",
        "fit_ln  <- fitdist(data, \"lnorm\")\n",
        "cdfcomp(list(fit_n, fit_p, fit_ln, fit_nb), legendtext = c(\"Normal\", \"Poisson\", \"Log Normal\", \"Negative Binomial\"))"
      ],
      "metadata": {
        "colab": {
          "base_uri": "https://localhost:8080/",
          "height": 497
        },
        "id": "CisdbHuNju5m",
        "outputId": "5da86f4a-3efa-440a-a24f-ad0cb6e7d26e"
      },
      "execution_count": null,
      "outputs": [
        {
          "output_type": "display_data",
          "data": {
            "image/png": "[encoded data removed]"
          },
          "metadata": {}
        }
      ]
    },
    {
      "cell_type": "code",
      "source": [],
      "metadata": {
        "colab": {
          "base_uri": "https://localhost:8080/",
          "height": 166
        },
        "id": "ldsnq8FA5MtP",
        "outputId": "db2bc4c0-b442-4e9e-b8e9-fdf26bfdf155"
      },
      "execution_count": null,
      "outputs": [
        {
          "output_type": "error",
          "ename": "NameError",
          "evalue": "ignored",
          "traceback": [
            "\u001b[0;31m---------------------------------------------------------------------------\u001b[0m",
            "\u001b[0;31mNameError\u001b[0m                                 Traceback (most recent call last)",
            "\u001b[0;32m<ipython-input-43-e3ae39eb4899>\u001b[0m in \u001b[0;36m<module>\u001b[0;34m\u001b[0m\n\u001b[0;32m----> 1\u001b[0;31m \u001b[0mfit_n\u001b[0m\u001b[0;34m\u001b[0m\u001b[0;34m\u001b[0m\u001b[0m\n\u001b[0m",
            "\u001b[0;31mNameError\u001b[0m: name 'fit_n' is not defined"
          ]
        }
      ]
    },
    {
      "cell_type": "code",
      "source": [
        "%%R\n",
        "summary(fit_nb)"
      ],
      "metadata": {
        "colab": {
          "base_uri": "https://localhost:8080/"
        },
        "id": "bSQunTJ-_TRR",
        "outputId": "6c6bc596-cec8-44ee-f160-022863f772e6"
      },
      "execution_count": null,
      "outputs": [
        {
          "output_type": "stream",
          "name": "stdout",
          "text": [
            "Fitting of the distribution ' nbinom ' by maximum likelihood \n",
            "Parameters : \n",
            "         estimate Std. Error\n",
            "size 1.990279e+00         NA\n",
            "mu   5.528951e+05         NA\n",
            "Loglikelihood:  -564.3479   AIC:  1132.696   BIC:  1136.074 \n",
            "Correlation matrix:\n",
            "[1] NA\n",
            "\n"
          ]
        }
      ]
    },
    {
      "cell_type": "code",
      "source": [
        "%%R\n",
        "summary(fit_n)"
      ],
      "metadata": {
        "colab": {
          "base_uri": "https://localhost:8080/"
        },
        "id": "oYVDcJCK_clf",
        "outputId": "0597b248-8b90-4cb0-9830-8f2c5d0e646b"
      },
      "execution_count": null,
      "outputs": [
        {
          "output_type": "stream",
          "name": "stdout",
          "text": [
            "Fitting of the distribution ' norm ' by maximum likelihood \n",
            "Parameters : \n",
            "     estimate Std. Error\n",
            "mean 553010.3          0\n",
            "sd   464404.5          0\n",
            "Loglikelihood:  -578.698   AIC:  1161.396   BIC:  1164.774 \n",
            "Correlation matrix:\n",
            "     mean  sd\n",
            "mean    1 NaN\n",
            "sd    NaN   1\n",
            "\n"
          ]
        }
      ]
    },
    {
      "cell_type": "markdown",
      "source": [
        "Также для того, чтобы оценить нестабильность наших данных, можно использовать бутстрэп."
      ],
      "metadata": {
        "id": "QqHtlTg9laE3"
      }
    },
    {
      "cell_type": "code",
      "source": [
        "%%R -r 100\n",
        "fit_ln.boot <- bootdist(fit_ln, \"param\")\n",
        "CIcdfplot(fit_ln.boot, CI.output = \"probability\")"
      ],
      "metadata": {
        "colab": {
          "base_uri": "https://localhost:8080/",
          "height": 497
        },
        "id": "GQeyU3xJliwW",
        "outputId": "994899be-f66f-4f92-be5e-3aa3e2b2fba9"
      },
      "execution_count": null,
      "outputs": [
        {
          "output_type": "display_data",
          "data": {
            "image/png": "[encoded data removed]"
          },
          "metadata": {}
        }
      ]
    },
    {
      "cell_type": "markdown",
      "source": [
        "Или использовать оценки третьего и четвёртого моментов для того, чтобы хотя бы приблизительно понять, к какому распределению наши данные могут быть отнесены:"
      ],
      "metadata": {
        "id": "95jgP4J9lpJg"
      }
    },
    {
      "cell_type": "code",
      "source": [
        "%%R -r 100 -w 600 -h 600\n",
        "descdist(data, discrete=TRUE, boot=500)"
      ],
      "metadata": {
        "colab": {
          "base_uri": "https://localhost:8080/",
          "height": 756
        },
        "id": "2_Ade4dEVBiL",
        "outputId": "7c7404cc-9c0f-40f0-8ec5-c8646a99c9a2"
      },
      "execution_count": null,
      "outputs": [
        {
          "output_type": "stream",
          "name": "stdout",
          "text": [
            "summary statistics\n",
            "------\n",
            "min:  62918   max:  2682832 \n",
            "median:  396275.5 \n",
            "mean:  553010.3 \n",
            "estimated sd:  470320.8 \n",
            "estimated skewness:  2.709948 \n",
            "estimated kurtosis:  13.21073 \n"
          ]
        },
        {
          "output_type": "display_data",
          "data": {
            "image/png": "[encoded data removed]"
          },
          "metadata": {}
        }
      ]
    },
    {
      "cell_type": "markdown",
      "source": [
        "## Домашнее задание\n",
        "\n",
        "Определите максимально правдоподобное распределение для наших даных. Попробуйте это сделать на случайной выборке из экспрессий 30 других генов. Согласованный ли получился результат?"
      ],
      "metadata": {
        "id": "q3Wx2L-l7oD4"
      }
    },
    {
      "cell_type": "code",
      "source": [
        "from random import sample\n",
        "import itertools"
      ],
      "metadata": {
        "id": "oSrfEtMl0tjo"
      },
      "execution_count": null,
      "outputs": []
    },
    {
      "cell_type": "code",
      "source": [
        "list(df.columns)\n",
        "genes=sample(list(df.columns),30)\n",
        "data=df[genes]\n",
        "data.shape"
      ],
      "metadata": {
        "id": "Jn8d0kSY74Xo",
        "colab": {
          "base_uri": "https://localhost:8080/"
        },
        "outputId": "30ec03bb-edaf-46fc-c6ad-fc97dd81f80e"
      },
      "execution_count": null,
      "outputs": [
        {
          "output_type": "execute_result",
          "data": {
            "text/plain": [
              "(40, 30)"
            ]
          },
          "metadata": {},
          "execution_count": 84
        }
      ]
    },
    {
      "cell_type": "code",
      "source": [
        "(data==0).sum()"
      ],
      "metadata": {
        "colab": {
          "base_uri": "https://localhost:8080/"
        },
        "id": "a0C55LwGh7Kw",
        "outputId": "5d4c8f7a-7a85-4194-f29d-bced345b99ad"
      },
      "execution_count": null,
      "outputs": [
        {
          "output_type": "execute_result",
          "data": {
            "text/plain": [
              "ZNF92        0\n",
              "STIM2        0\n",
              "POLR2B       0\n",
              "TBL1X        0\n",
              "ADGRE1       0\n",
              "DLG1         0\n",
              "MMP16        0\n",
              "CACNA2D1     0\n",
              "HTRA3        0\n",
              "AL159163    22\n",
              "CREB3L2      0\n",
              "CCDC138      0\n",
              "C1orf112     0\n",
              "MSANTD1      0\n",
              "ARID4A       0\n",
              "NMNAT3       0\n",
              "ZNF507       0\n",
              "LGALS3BP     0\n",
              "NDRG4        0\n",
              "OR9I1       40\n",
              "TERF2        0\n",
              "ZMIZ1        0\n",
              "KLHL30       0\n",
              "NCR3LG1      0\n",
              "SCGB1C2     34\n",
              "TTLL4        0\n",
              "TAX1BP3      0\n",
              "CLEC4G      39\n",
              "MDM1         0\n",
              "MATN4        2\n",
              "dtype: int64"
            ]
          },
          "metadata": {},
          "execution_count": 85
        }
      ]
    },
    {
      "cell_type": "code",
      "source": [
        "%%R \n",
        "library(fitdistrplus)\n",
        "aic<-function(data, distr){\n",
        "    data<-as.vector(data)\n",
        "    fit_distr <- fitdist(data, distr)\n",
        "    aic_val<-fit_distr[['aic']]\n",
        "    return(aic_val)\n",
        "}"
      ],
      "metadata": {
        "id": "qMJgR9GU9pKD",
        "colab": {
          "base_uri": "https://localhost:8080/"
        },
        "outputId": "8ca14a98-1341-44fa-936a-e53b11549ed0"
      },
      "execution_count": null,
      "outputs": [
        {
          "output_type": "stream",
          "name": "stderr",
          "text": [
            "WARNING:rpy2.rinterface_lib.callbacks:R[write to console]: Loading required package: MASS\n",
            "\n",
            "WARNING:rpy2.rinterface_lib.callbacks:R[write to console]: Loading required package: survival\n",
            "\n"
          ]
        }
      ]
    },
    {
      "cell_type": "code",
      "source": [
        "from pandas.io.formats.format import NA\n",
        "distrs=['norm','pois','nbinom','lnorm']\n",
        "aics = pd.DataFrame(columns=distrs, index=genes)\n",
        "for gene, distr in itertools.product(genes, distrs):\n",
        "  gene_data=data[gene].values\n",
        "  try:\n",
        "    %R -i gene_data,distr -o aic_val aic_val=aic(gene_data,distr)\n",
        "    aics.loc[gene][distr]=aic_val[0]\n",
        "  except Exception:\n",
        "    pass"
      ],
      "metadata": {
        "id": "_s9q6YMn9QH2"
      },
      "execution_count": null,
      "outputs": []
    },
    {
      "cell_type": "code",
      "source": [
        "aics"
      ],
      "metadata": {
        "colab": {
          "base_uri": "https://localhost:8080/",
          "height": 990
        },
        "id": "pfZiyZJSJ0cK",
        "outputId": "e16edc2d-4bda-45ab-b9a1-e85fd910b509"
      },
      "execution_count": null,
      "outputs": [
        {
          "output_type": "execute_result",
          "data": {
            "text/plain": [
              "                norm           pois      nbinom       lnorm\n",
              "ZNF92     562.894059    5273.221283  556.696095   557.00361\n",
              "STIM2     735.702834   58620.121936   700.53577  691.080405\n",
              "POLR2B    758.923214   64909.767906  744.851833  743.762879\n",
              "TBL1X     723.477601   50953.041402  700.522207  697.764901\n",
              "ADGRE1    599.536947   17848.113269  491.608539  473.737051\n",
              "DLG1      697.767683   26361.651611  691.150617  691.170988\n",
              "MMP16     493.608177    3819.260423  463.142406  461.492916\n",
              "CACNA2D1  683.589386   38364.156594  611.606419   597.83809\n",
              "HTRA3     772.034512  114257.837139  740.805762  741.197848\n",
              "AL159163  120.870342     100.290906   99.317763         NaN\n",
              "CREB3L2   809.421336  140758.078854  793.406126  792.500249\n",
              "CCDC138   556.960977    6750.977231  532.851811  528.597076\n",
              "C1orf112  546.535905    5113.249637  533.712051  533.602809\n",
              "MSANTD1   426.189369    1826.988485  391.967739  392.894559\n",
              "ARID4A    642.305727    14609.72921  629.752498   628.05666\n",
              "NMNAT3    506.165868    3800.435395  477.977244  474.895213\n",
              "ZNF507    635.560345   12572.269848   629.44745  629.804602\n",
              "LGALS3BP  943.128312  676052.219807  940.725125   946.33527\n",
              "NDRG4     699.355247   57787.196964  617.133731  601.104033\n",
              "OR9I1            NaN            NaN         NaN         NaN\n",
              "TERF2      640.21375   11887.302592  633.388487  632.801068\n",
              "ZMIZ1     768.389247    75916.68025  754.963803  754.762001\n",
              "KLHL30    536.360374    7614.226161   475.62718  469.495026\n",
              "NCR3LG1    524.70155    5890.987413  464.928106  460.903452\n",
              "SCGB1C2   231.189178     220.352785   67.862068         NaN\n",
              "TTLL4     662.211145   19883.810243  646.042538  642.754804\n",
              "TAX1BP3   243.323178     272.110722  232.097494  232.918918\n",
              "CLEC4G    -31.052808      11.377759   13.377759         NaN\n",
              "MDM1       589.04083    7799.681693  565.627132  558.991237\n",
              "MATN4     326.271842     613.135727  260.839518         NaN"
            ],
            "text/html": [
              "\n",
              "  <div id=\"df-f785fa22-6bc7-4cb0-9ad9-45d678ce3527\">\n",
              "    <div class=\"colab-df-container\">\n",
              "      <div>\n",
              "<style scoped>\n",
              "    .dataframe tbody tr th:only-of-type {\n",
              "        vertical-align: middle;\n",
              "    }\n",
              "\n",
              "    .dataframe tbody tr th {\n",
              "        vertical-align: top;\n",
              "    }\n",
              "\n",
              "    .dataframe thead th {\n",
              "        text-align: right;\n",
              "    }\n",
              "</style>\n",
              "<table border=\"1\" class=\"dataframe\">\n",
              "  <thead>\n",
              "    <tr style=\"text-align: right;\">\n",
              "      <th></th>\n",
              "      <th>norm</th>\n",
              "      <th>pois</th>\n",
              "      <th>nbinom</th>\n",
              "      <th>lnorm</th>\n",
              "    </tr>\n",
              "  </thead>\n",
              "  <tbody>\n",
              "    <tr>\n",
              "      <th>ZNF92</th>\n",
              "      <td>562.894059</td>\n",
              "      <td>5273.221283</td>\n",
              "      <td>556.696095</td>\n",
              "      <td>557.00361</td>\n",
              "    </tr>\n",
              "    <tr>\n",
              "      <th>STIM2</th>\n",
              "      <td>735.702834</td>\n",
              "      <td>58620.121936</td>\n",
              "      <td>700.53577</td>\n",
              "      <td>691.080405</td>\n",
              "    </tr>\n",
              "    <tr>\n",
              "      <th>POLR2B</th>\n",
              "      <td>758.923214</td>\n",
              "      <td>64909.767906</td>\n",
              "      <td>744.851833</td>\n",
              "      <td>743.762879</td>\n",
              "    </tr>\n",
              "    <tr>\n",
              "      <th>TBL1X</th>\n",
              "      <td>723.477601</td>\n",
              "      <td>50953.041402</td>\n",
              "      <td>700.522207</td>\n",
              "      <td>697.764901</td>\n",
              "    </tr>\n",
              "    <tr>\n",
              "      <th>ADGRE1</th>\n",
              "      <td>599.536947</td>\n",
              "      <td>17848.113269</td>\n",
              "      <td>491.608539</td>\n",
              "      <td>473.737051</td>\n",
              "    </tr>\n",
              "    <tr>\n",
              "      <th>DLG1</th>\n",
              "      <td>697.767683</td>\n",
              "      <td>26361.651611</td>\n",
              "      <td>691.150617</td>\n",
              "      <td>691.170988</td>\n",
              "    </tr>\n",
              "    <tr>\n",
              "      <th>MMP16</th>\n",
              "      <td>493.608177</td>\n",
              "      <td>3819.260423</td>\n",
              "      <td>463.142406</td>\n",
              "      <td>461.492916</td>\n",
              "    </tr>\n",
              "    <tr>\n",
              "      <th>CACNA2D1</th>\n",
              "      <td>683.589386</td>\n",
              "      <td>38364.156594</td>\n",
              "      <td>611.606419</td>\n",
              "      <td>597.83809</td>\n",
              "    </tr>\n",
              "    <tr>\n",
              "      <th>HTRA3</th>\n",
              "      <td>772.034512</td>\n",
              "      <td>114257.837139</td>\n",
              "      <td>740.805762</td>\n",
              "      <td>741.197848</td>\n",
              "    </tr>\n",
              "    <tr>\n",
              "      <th>AL159163</th>\n",
              "      <td>120.870342</td>\n",
              "      <td>100.290906</td>\n",
              "      <td>99.317763</td>\n",
              "      <td>NaN</td>\n",
              "    </tr>\n",
              "    <tr>\n",
              "      <th>CREB3L2</th>\n",
              "      <td>809.421336</td>\n",
              "      <td>140758.078854</td>\n",
              "      <td>793.406126</td>\n",
              "      <td>792.500249</td>\n",
              "    </tr>\n",
              "    <tr>\n",
              "      <th>CCDC138</th>\n",
              "      <td>556.960977</td>\n",
              "      <td>6750.977231</td>\n",
              "      <td>532.851811</td>\n",
              "      <td>528.597076</td>\n",
              "    </tr>\n",
              "    <tr>\n",
              "      <th>C1orf112</th>\n",
              "      <td>546.535905</td>\n",
              "      <td>5113.249637</td>\n",
              "      <td>533.712051</td>\n",
              "      <td>533.602809</td>\n",
              "    </tr>\n",
              "    <tr>\n",
              "      <th>MSANTD1</th>\n",
              "      <td>426.189369</td>\n",
              "      <td>1826.988485</td>\n",
              "      <td>391.967739</td>\n",
              "      <td>392.894559</td>\n",
              "    </tr>\n",
              "    <tr>\n",
              "      <th>ARID4A</th>\n",
              "      <td>642.305727</td>\n",
              "      <td>14609.72921</td>\n",
              "      <td>629.752498</td>\n",
              "      <td>628.05666</td>\n",
              "    </tr>\n",
              "    <tr>\n",
              "      <th>NMNAT3</th>\n",
              "      <td>506.165868</td>\n",
              "      <td>3800.435395</td>\n",
              "      <td>477.977244</td>\n",
              "      <td>474.895213</td>\n",
              "    </tr>\n",
              "    <tr>\n",
              "      <th>ZNF507</th>\n",
              "      <td>635.560345</td>\n",
              "      <td>12572.269848</td>\n",
              "      <td>629.44745</td>\n",
              "      <td>629.804602</td>\n",
              "    </tr>\n",
              "    <tr>\n",
              "      <th>LGALS3BP</th>\n",
              "      <td>943.128312</td>\n",
              "      <td>676052.219807</td>\n",
              "      <td>940.725125</td>\n",
              "      <td>946.33527</td>\n",
              "    </tr>\n",
              "    <tr>\n",
              "      <th>NDRG4</th>\n",
              "      <td>699.355247</td>\n",
              "      <td>57787.196964</td>\n",
              "      <td>617.133731</td>\n",
              "      <td>601.104033</td>\n",
              "    </tr>\n",
              "    <tr>\n",
              "      <th>OR9I1</th>\n",
              "      <td>NaN</td>\n",
              "      <td>NaN</td>\n",
              "      <td>NaN</td>\n",
              "      <td>NaN</td>\n",
              "    </tr>\n",
              "    <tr>\n",
              "      <th>TERF2</th>\n",
              "      <td>640.21375</td>\n",
              "      <td>11887.302592</td>\n",
              "      <td>633.388487</td>\n",
              "      <td>632.801068</td>\n",
              "    </tr>\n",
              "    <tr>\n",
              "      <th>ZMIZ1</th>\n",
              "      <td>768.389247</td>\n",
              "      <td>75916.68025</td>\n",
              "      <td>754.963803</td>\n",
              "      <td>754.762001</td>\n",
              "    </tr>\n",
              "    <tr>\n",
              "      <th>KLHL30</th>\n",
              "      <td>536.360374</td>\n",
              "      <td>7614.226161</td>\n",
              "      <td>475.62718</td>\n",
              "      <td>469.495026</td>\n",
              "    </tr>\n",
              "    <tr>\n",
              "      <th>NCR3LG1</th>\n",
              "      <td>524.70155</td>\n",
              "      <td>5890.987413</td>\n",
              "      <td>464.928106</td>\n",
              "      <td>460.903452</td>\n",
              "    </tr>\n",
              "    <tr>\n",
              "      <th>SCGB1C2</th>\n",
              "      <td>231.189178</td>\n",
              "      <td>220.352785</td>\n",
              "      <td>67.862068</td>\n",
              "      <td>NaN</td>\n",
              "    </tr>\n",
              "    <tr>\n",
              "      <th>TTLL4</th>\n",
              "      <td>662.211145</td>\n",
              "      <td>19883.810243</td>\n",
              "      <td>646.042538</td>\n",
              "      <td>642.754804</td>\n",
              "    </tr>\n",
              "    <tr>\n",
              "      <th>TAX1BP3</th>\n",
              "      <td>243.323178</td>\n",
              "      <td>272.110722</td>\n",
              "      <td>232.097494</td>\n",
              "      <td>232.918918</td>\n",
              "    </tr>\n",
              "    <tr>\n",
              "      <th>CLEC4G</th>\n",
              "      <td>-31.052808</td>\n",
              "      <td>11.377759</td>\n",
              "      <td>13.377759</td>\n",
              "      <td>NaN</td>\n",
              "    </tr>\n",
              "    <tr>\n",
              "      <th>MDM1</th>\n",
              "      <td>589.04083</td>\n",
              "      <td>7799.681693</td>\n",
              "      <td>565.627132</td>\n",
              "      <td>558.991237</td>\n",
              "    </tr>\n",
              "    <tr>\n",
              "      <th>MATN4</th>\n",
              "      <td>326.271842</td>\n",
              "      <td>613.135727</td>\n",
              "      <td>260.839518</td>\n",
              "      <td>NaN</td>\n",
              "    </tr>\n",
              "  </tbody>\n",
              "</table>\n",
              "</div>\n",
              "      <button class=\"colab-df-convert\" onclick=\"convertToInteractive('df-f785fa22-6bc7-4cb0-9ad9-45d678ce3527')\"\n",
              "              title=\"Convert this dataframe to an interactive table.\"\n",
              "              style=\"display:none;\">\n",
              "        \n",
              "  <svg xmlns=\"http://www.w3.org/2000/svg\" height=\"24px\"viewBox=\"0 0 24 24\"\n",
              "       width=\"24px\">\n",
              "    <path d=\"M0 0h24v24H0V0z\" fill=\"none\"/>\n",
              "    <path d=\"M18.56 5.44l.94 2.06.94-2.06 2.06-.94-2.06-.94-.94-2.06-.94 2.06-2.06.94zm-11 1L8.5 8.5l.94-2.06 2.06-.94-2.06-.94L8.5 2.5l-.94 2.06-2.06.94zm10 10l.94 2.06.94-2.06 2.06-.94-2.06-.94-.94-2.06-.94 2.06-2.06.94z\"/><path d=\"M17.41 7.96l-1.37-1.37c-.4-.4-.92-.59-1.43-.59-.52 0-1.04.2-1.43.59L10.3 9.45l-7.72 7.72c-.78.78-.78 2.05 0 2.83L4 21.41c.39.39.9.59 1.41.59.51 0 1.02-.2 1.41-.59l7.78-7.78 2.81-2.81c.8-.78.8-2.07 0-2.86zM5.41 20L4 18.59l7.72-7.72 1.47 1.35L5.41 20z\"/>\n",
              "  </svg>\n",
              "      </button>\n",
              "      \n",
              "  <style>\n",
              "    .colab-df-container {\n",
              "      display:flex;\n",
              "      flex-wrap:wrap;\n",
              "      gap: 12px;\n",
              "    }\n",
              "\n",
              "    .colab-df-convert {\n",
              "      background-color: #E8F0FE;\n",
              "      border: none;\n",
              "      border-radius: 50%;\n",
              "      cursor: pointer;\n",
              "      display: none;\n",
              "      fill: #1967D2;\n",
              "      height: 32px;\n",
              "      padding: 0 0 0 0;\n",
              "      width: 32px;\n",
              "    }\n",
              "\n",
              "    .colab-df-convert:hover {\n",
              "      background-color: #E2EBFA;\n",
              "      box-shadow: 0px 1px 2px rgba(60, 64, 67, 0.3), 0px 1px 3px 1px rgba(60, 64, 67, 0.15);\n",
              "      fill: #174EA6;\n",
              "    }\n",
              "\n",
              "    [theme=dark] .colab-df-convert {\n",
              "      background-color: #3B4455;\n",
              "      fill: #D2E3FC;\n",
              "    }\n",
              "\n",
              "    [theme=dark] .colab-df-convert:hover {\n",
              "      background-color: #434B5C;\n",
              "      box-shadow: 0px 1px 3px 1px rgba(0, 0, 0, 0.15);\n",
              "      filter: drop-shadow(0px 1px 2px rgba(0, 0, 0, 0.3));\n",
              "      fill: #FFFFFF;\n",
              "    }\n",
              "  </style>\n",
              "\n",
              "      <script>\n",
              "        const buttonEl =\n",
              "          document.querySelector('#df-f785fa22-6bc7-4cb0-9ad9-45d678ce3527 button.colab-df-convert');\n",
              "        buttonEl.style.display =\n",
              "          google.colab.kernel.accessAllowed ? 'block' : 'none';\n",
              "\n",
              "        async function convertToInteractive(key) {\n",
              "          const element = document.querySelector('#df-f785fa22-6bc7-4cb0-9ad9-45d678ce3527');\n",
              "          const dataTable =\n",
              "            await google.colab.kernel.invokeFunction('convertToInteractive',\n",
              "                                                     [key], {});\n",
              "          if (!dataTable) return;\n",
              "\n",
              "          const docLinkHtml = 'Like what you see? Visit the ' +\n",
              "            '<a target=\"_blank\" href=https://colab.research.google.com/notebooks/data_table.ipynb>data table notebook</a>'\n",
              "            + ' to learn more about interactive tables.';\n",
              "          element.innerHTML = '';\n",
              "          dataTable['output_type'] = 'display_data';\n",
              "          await google.colab.output.renderOutput(dataTable, element);\n",
              "          const docLink = document.createElement('div');\n",
              "          docLink.innerHTML = docLinkHtml;\n",
              "          element.appendChild(docLink);\n",
              "        }\n",
              "      </script>\n",
              "    </div>\n",
              "  </div>\n",
              "  "
            ]
          },
          "metadata": {},
          "execution_count": 87
        }
      ]
    },
    {
      "cell_type": "code",
      "source": [
        "import seaborn as sns\n",
        "import matplotlib.pyplot as plt\n",
        "\n",
        "sns.set(style=\"whitegrid\")\n",
        "\n",
        "\n",
        "ax = sns.boxplot(data=aics, showfliers = False)\n",
        "ax = sns.swarmplot(data=aics, color=\".25\")\n",
        "\n",
        "plt.show()"
      ],
      "metadata": {
        "colab": {
          "base_uri": "https://localhost:8080/",
          "height": 493
        },
        "id": "DfePiOL9lXqW",
        "outputId": "a54fe9b1-6901-424e-96fa-d258bf6d1b9e"
      },
      "execution_count": null,
      "outputs": [
        {
          "output_type": "stream",
          "name": "stderr",
          "text": [
            "/usr/local/lib/python3.7/dist-packages/seaborn/categorical.py:1296: UserWarning: 53.3% of the points cannot be placed; you may want to decrease the size of the markers or use stripplot.\n",
            "  warnings.warn(msg, UserWarning)\n",
            "/usr/local/lib/python3.7/dist-packages/seaborn/categorical.py:1296: UserWarning: 13.3% of the points cannot be placed; you may want to decrease the size of the markers or use stripplot.\n",
            "  warnings.warn(msg, UserWarning)\n",
            "/usr/local/lib/python3.7/dist-packages/seaborn/categorical.py:1296: UserWarning: 40.0% of the points cannot be placed; you may want to decrease the size of the markers or use stripplot.\n",
            "  warnings.warn(msg, UserWarning)\n"
          ]
        },
        {
          "output_type": "display_data",
          "data": {
            "text/plain": [
              "<Figure size 600x400 with 1 Axes>"
            ],
            "image/png": "[encoded data removed]"
          },
          "metadata": {}
        }
      ]
    },
    {
      "cell_type": "code",
      "source": [
        "import seaborn as sns\n",
        "import matplotlib.pyplot as plt\n",
        "\n",
        "sns.set(style=\"whitegrid\")\n",
        "\n",
        "\n",
        "ax = sns.boxplot(data=aics[['norm','nbinom','lnorm']], showfliers = False)\n",
        "ax = sns.swarmplot(data=aics[['norm','nbinom','lnorm']], color=\".25\")\n",
        "\n",
        "plt.show()"
      ],
      "metadata": {
        "colab": {
          "base_uri": "https://localhost:8080/",
          "height": 367
        },
        "id": "pcZgZ7sBo8Ca",
        "outputId": "e64ad9b5-1803-4094-90ea-a526a494f24c"
      },
      "execution_count": null,
      "outputs": [
        {
          "output_type": "display_data",
          "data": {
            "text/plain": [
              "<Figure size 600x400 with 1 Axes>"
            ],
            "image/png": "[encoded data removed]"
          },
          "metadata": {}
        }
      ]
    },
    {
      "cell_type": "markdown",
      "source": [
        "Самый низкая медиана AIC у отрицательного биномиального распределения. Я попробовала  "
      ],
      "metadata": {
        "id": "Ft1byEd1ZHaj"
      }
    },
    {
      "cell_type": "markdown",
      "source": [
        "###Задание 2.\n",
        "Скачайте датасет <code>1M8-86VecaYPERovPk4JKhT2lLa4PfJxi</code> из статьи <a href=\"https://bmcgenomics.biomedcentral.com/articles/10.1186/1471-2164-13-304#Sec8\">Oberg et al., 2012</a>. Внимательно прочитайте статью и изучите дизайн эксперимента &mdash; какие реплики в статье называют техническими, а какие &mdash; биологическими? Правда ли в технических репликах наблюдается распределение Пуассона?"
      ],
      "metadata": {
        "id": "x59RvRa3Y30u"
      }
    },
    {
      "cell_type": "markdown",
      "source": [
        "Чтобы получить технические реплики в статье одну и ту же библиотеку капали в разные дорожки секвенатора. Полученные из этих дорожек данные как раз и называют техническим репликами.\n",
        "\n",
        "Биологические реплики - образцы из разных индивидумов, которые относятся к одной и той же группе (high или low responders)"
      ],
      "metadata": {
        "id": "pm8Q8KUHlWP6"
      }
    },
    {
      "cell_type": "code",
      "source": [
        "!gdown --id 1M8-86VecaYPERovPk4JKhT2lLa4PfJxi"
      ],
      "metadata": {
        "id": "OUUyBE71Y4OY"
      },
      "execution_count": null,
      "outputs": []
    },
    {
      "cell_type": "code",
      "source": [
        "# Прочтение датасета\n",
        "df = pd.read_csv(\"GSE29022_gene_counts.txt\", sep=\"\\t\")\n",
        "df.shape"
      ],
      "metadata": {
        "colab": {
          "base_uri": "https://localhost:8080/"
        },
        "id": "4-g-WGwDlvlH",
        "outputId": "ab49815c-abc5-4fde-f853-153e4fc26629"
      },
      "execution_count": 6,
      "outputs": [
        {
          "output_type": "execute_result",
          "data": {
            "text/plain": [
              "(17353, 48)"
            ]
          },
          "metadata": {},
          "execution_count": 6
        }
      ]
    },
    {
      "cell_type": "code",
      "source": [
        "df.head()"
      ],
      "metadata": {
        "colab": {
          "base_uri": "https://localhost:8080/",
          "height": 299
        },
        "id": "nn0KtupnojOT",
        "outputId": "51a8594f-22fe-4690-b584-1db162c2b913"
      },
      "execution_count": 7,
      "outputs": [
        {
          "output_type": "execute_result",
          "data": {
            "text/plain": [
              "   sample4019.flowcell30WPLAAXX.lane5  sample4019.flowcell30WPLAAXX.lane6  \\\n",
              "0                                 785                                 761   \n",
              "1                                 527                                 501   \n",
              "2                                   3                                   2   \n",
              "3                                 117                                 129   \n",
              "4                                  30                                  30   \n",
              "\n",
              "   sample6045.flowcell30WP5AAXX.lane1  sample6045.flowcell30WP5AAXX.lane2  \\\n",
              "0                                 794                                 888   \n",
              "1                                 466                                 581   \n",
              "2                                   3                                   1   \n",
              "3                                  80                                  71   \n",
              "4                                  19                                  34   \n",
              "\n",
              "   sample2550.flowcell305TMAAXX.lane3  sample2550.flowcell305TMAAXX.lane4  \\\n",
              "0                                 873                                 836   \n",
              "1                                 259                                 259   \n",
              "2                                   1                                   1   \n",
              "3                                  61                                  52   \n",
              "4                                  16                                  21   \n",
              "\n",
              "   sample1286.flowcell305TMAAXX.lane7  sample1286.flowcell305TMAAXX.lane8  \\\n",
              "0                                 930                                 874   \n",
              "1                                 321                                 361   \n",
              "2                                   2                                   2   \n",
              "3                                  74                                  70   \n",
              "4                                  15                                  24   \n",
              "\n",
              "   sample6113.flowcell30WFYAAXX.lane3  sample6113.flowcell30WFYAAXX.lane4  \\\n",
              "0                                1053                                1050   \n",
              "1                                 381                                 391   \n",
              "2                                   2                                   3   \n",
              "3                                  55                                  74   \n",
              "4                                  16                                  21   \n",
              "\n",
              "   ...  sample1353.flowcell42KV5AAXX.lane7  \\\n",
              "0  ...                                2173   \n",
              "1  ...                                 786   \n",
              "2  ...                                   1   \n",
              "3  ...                                 202   \n",
              "4  ...                                  33   \n",
              "\n",
              "   sample1353.flowcell42KV5AAXX.lane8  sample56.flowcell42KT7AAXX.lane3  \\\n",
              "0                                2043                              2301   \n",
              "1                                 720                               759   \n",
              "2                                   5                                 4   \n",
              "3                                 176                               141   \n",
              "4                                  32                                19   \n",
              "\n",
              "   sample56.flowcell42KT7AAXX.lane4  sample7954.flowcell42KT7AAXX.lane7  \\\n",
              "0                              2552                                1252   \n",
              "1                               780                                1122   \n",
              "2                                 3                                   1   \n",
              "3                               133                                 194   \n",
              "4                                22                                  43   \n",
              "\n",
              "   sample7954.flowcell42KT7AAXX.lane8  sample6310.flowcell312M0AAXX.lane3  \\\n",
              "0                                1115                                2516   \n",
              "1                                1084                                 803   \n",
              "2                                   2                                   0   \n",
              "3                                 198                                 157   \n",
              "4                                  37                                  28   \n",
              "\n",
              "   sample6310.flowcell312M0AAXX.lane4  sample86.flowcell312M0AAXX.lane7  \\\n",
              "0                                2495                              1835   \n",
              "1                                 731                               785   \n",
              "2                                   2                                 4   \n",
              "3                                 161                               192   \n",
              "4                                  26                                52   \n",
              "\n",
              "   sample86.flowcell312M0AAXX.lane8  \n",
              "0                              1761  \n",
              "1                               679  \n",
              "2                                 4  \n",
              "3                               189  \n",
              "4                                44  \n",
              "\n",
              "[5 rows x 48 columns]"
            ],
            "text/html": [
              "\n",
              "  <div id=\"df-63819f60-6e99-4a12-8d6f-ac9932b8e986\">\n",
              "    <div class=\"colab-df-container\">\n",
              "      <div>\n",
              "<style scoped>\n",
              "    .dataframe tbody tr th:only-of-type {\n",
              "        vertical-align: middle;\n",
              "    }\n",
              "\n",
              "    .dataframe tbody tr th {\n",
              "        vertical-align: top;\n",
              "    }\n",
              "\n",
              "    .dataframe thead th {\n",
              "        text-align: right;\n",
              "    }\n",
              "</style>\n",
              "<table border=\"1\" class=\"dataframe\">\n",
              "  <thead>\n",
              "    <tr style=\"text-align: right;\">\n",
              "      <th></th>\n",
              "      <th>sample4019.flowcell30WPLAAXX.lane5</th>\n",
              "      <th>sample4019.flowcell30WPLAAXX.lane6</th>\n",
              "      <th>sample6045.flowcell30WP5AAXX.lane1</th>\n",
              "      <th>sample6045.flowcell30WP5AAXX.lane2</th>\n",
              "      <th>sample2550.flowcell305TMAAXX.lane3</th>\n",
              "      <th>sample2550.flowcell305TMAAXX.lane4</th>\n",
              "      <th>sample1286.flowcell305TMAAXX.lane7</th>\n",
              "      <th>sample1286.flowcell305TMAAXX.lane8</th>\n",
              "      <th>sample6113.flowcell30WFYAAXX.lane3</th>\n",
              "      <th>sample6113.flowcell30WFYAAXX.lane4</th>\n",
              "      <th>...</th>\n",
              "      <th>sample1353.flowcell42KV5AAXX.lane7</th>\n",
              "      <th>sample1353.flowcell42KV5AAXX.lane8</th>\n",
              "      <th>sample56.flowcell42KT7AAXX.lane3</th>\n",
              "      <th>sample56.flowcell42KT7AAXX.lane4</th>\n",
              "      <th>sample7954.flowcell42KT7AAXX.lane7</th>\n",
              "      <th>sample7954.flowcell42KT7AAXX.lane8</th>\n",
              "      <th>sample6310.flowcell312M0AAXX.lane3</th>\n",
              "      <th>sample6310.flowcell312M0AAXX.lane4</th>\n",
              "      <th>sample86.flowcell312M0AAXX.lane7</th>\n",
              "      <th>sample86.flowcell312M0AAXX.lane8</th>\n",
              "    </tr>\n",
              "  </thead>\n",
              "  <tbody>\n",
              "    <tr>\n",
              "      <th>0</th>\n",
              "      <td>785</td>\n",
              "      <td>761</td>\n",
              "      <td>794</td>\n",
              "      <td>888</td>\n",
              "      <td>873</td>\n",
              "      <td>836</td>\n",
              "      <td>930</td>\n",
              "      <td>874</td>\n",
              "      <td>1053</td>\n",
              "      <td>1050</td>\n",
              "      <td>...</td>\n",
              "      <td>2173</td>\n",
              "      <td>2043</td>\n",
              "      <td>2301</td>\n",
              "      <td>2552</td>\n",
              "      <td>1252</td>\n",
              "      <td>1115</td>\n",
              "      <td>2516</td>\n",
              "      <td>2495</td>\n",
              "      <td>1835</td>\n",
              "      <td>1761</td>\n",
              "    </tr>\n",
              "    <tr>\n",
              "      <th>1</th>\n",
              "      <td>527</td>\n",
              "      <td>501</td>\n",
              "      <td>466</td>\n",
              "      <td>581</td>\n",
              "      <td>259</td>\n",
              "      <td>259</td>\n",
              "      <td>321</td>\n",
              "      <td>361</td>\n",
              "      <td>381</td>\n",
              "      <td>391</td>\n",
              "      <td>...</td>\n",
              "      <td>786</td>\n",
              "      <td>720</td>\n",
              "      <td>759</td>\n",
              "      <td>780</td>\n",
              "      <td>1122</td>\n",
              "      <td>1084</td>\n",
              "      <td>803</td>\n",
              "      <td>731</td>\n",
              "      <td>785</td>\n",
              "      <td>679</td>\n",
              "    </tr>\n",
              "    <tr>\n",
              "      <th>2</th>\n",
              "      <td>3</td>\n",
              "      <td>2</td>\n",
              "      <td>3</td>\n",
              "      <td>1</td>\n",
              "      <td>1</td>\n",
              "      <td>1</td>\n",
              "      <td>2</td>\n",
              "      <td>2</td>\n",
              "      <td>2</td>\n",
              "      <td>3</td>\n",
              "      <td>...</td>\n",
              "      <td>1</td>\n",
              "      <td>5</td>\n",
              "      <td>4</td>\n",
              "      <td>3</td>\n",
              "      <td>1</td>\n",
              "      <td>2</td>\n",
              "      <td>0</td>\n",
              "      <td>2</td>\n",
              "      <td>4</td>\n",
              "      <td>4</td>\n",
              "    </tr>\n",
              "    <tr>\n",
              "      <th>3</th>\n",
              "      <td>117</td>\n",
              "      <td>129</td>\n",
              "      <td>80</td>\n",
              "      <td>71</td>\n",
              "      <td>61</td>\n",
              "      <td>52</td>\n",
              "      <td>74</td>\n",
              "      <td>70</td>\n",
              "      <td>55</td>\n",
              "      <td>74</td>\n",
              "      <td>...</td>\n",
              "      <td>202</td>\n",
              "      <td>176</td>\n",
              "      <td>141</td>\n",
              "      <td>133</td>\n",
              "      <td>194</td>\n",
              "      <td>198</td>\n",
              "      <td>157</td>\n",
              "      <td>161</td>\n",
              "      <td>192</td>\n",
              "      <td>189</td>\n",
              "    </tr>\n",
              "    <tr>\n",
              "      <th>4</th>\n",
              "      <td>30</td>\n",
              "      <td>30</td>\n",
              "      <td>19</td>\n",
              "      <td>34</td>\n",
              "      <td>16</td>\n",
              "      <td>21</td>\n",
              "      <td>15</td>\n",
              "      <td>24</td>\n",
              "      <td>16</td>\n",
              "      <td>21</td>\n",
              "      <td>...</td>\n",
              "      <td>33</td>\n",
              "      <td>32</td>\n",
              "      <td>19</td>\n",
              "      <td>22</td>\n",
              "      <td>43</td>\n",
              "      <td>37</td>\n",
              "      <td>28</td>\n",
              "      <td>26</td>\n",
              "      <td>52</td>\n",
              "      <td>44</td>\n",
              "    </tr>\n",
              "  </tbody>\n",
              "</table>\n",
              "<p>5 rows × 48 columns</p>\n",
              "</div>\n",
              "      <button class=\"colab-df-convert\" onclick=\"convertToInteractive('df-63819f60-6e99-4a12-8d6f-ac9932b8e986')\"\n",
              "              title=\"Convert this dataframe to an interactive table.\"\n",
              "              style=\"display:none;\">\n",
              "        \n",
              "  <svg xmlns=\"http://www.w3.org/2000/svg\" height=\"24px\"viewBox=\"0 0 24 24\"\n",
              "       width=\"24px\">\n",
              "    <path d=\"M0 0h24v24H0V0z\" fill=\"none\"/>\n",
              "    <path d=\"M18.56 5.44l.94 2.06.94-2.06 2.06-.94-2.06-.94-.94-2.06-.94 2.06-2.06.94zm-11 1L8.5 8.5l.94-2.06 2.06-.94-2.06-.94L8.5 2.5l-.94 2.06-2.06.94zm10 10l.94 2.06.94-2.06 2.06-.94-2.06-.94-.94-2.06-.94 2.06-2.06.94z\"/><path d=\"M17.41 7.96l-1.37-1.37c-.4-.4-.92-.59-1.43-.59-.52 0-1.04.2-1.43.59L10.3 9.45l-7.72 7.72c-.78.78-.78 2.05 0 2.83L4 21.41c.39.39.9.59 1.41.59.51 0 1.02-.2 1.41-.59l7.78-7.78 2.81-2.81c.8-.78.8-2.07 0-2.86zM5.41 20L4 18.59l7.72-7.72 1.47 1.35L5.41 20z\"/>\n",
              "  </svg>\n",
              "      </button>\n",
              "      \n",
              "  <style>\n",
              "    .colab-df-container {\n",
              "      display:flex;\n",
              "      flex-wrap:wrap;\n",
              "      gap: 12px;\n",
              "    }\n",
              "\n",
              "    .colab-df-convert {\n",
              "      background-color: #E8F0FE;\n",
              "      border: none;\n",
              "      border-radius: 50%;\n",
              "      cursor: pointer;\n",
              "      display: none;\n",
              "      fill: #1967D2;\n",
              "      height: 32px;\n",
              "      padding: 0 0 0 0;\n",
              "      width: 32px;\n",
              "    }\n",
              "\n",
              "    .colab-df-convert:hover {\n",
              "      background-color: #E2EBFA;\n",
              "      box-shadow: 0px 1px 2px rgba(60, 64, 67, 0.3), 0px 1px 3px 1px rgba(60, 64, 67, 0.15);\n",
              "      fill: #174EA6;\n",
              "    }\n",
              "\n",
              "    [theme=dark] .colab-df-convert {\n",
              "      background-color: #3B4455;\n",
              "      fill: #D2E3FC;\n",
              "    }\n",
              "\n",
              "    [theme=dark] .colab-df-convert:hover {\n",
              "      background-color: #434B5C;\n",
              "      box-shadow: 0px 1px 3px 1px rgba(0, 0, 0, 0.15);\n",
              "      filter: drop-shadow(0px 1px 2px rgba(0, 0, 0, 0.3));\n",
              "      fill: #FFFFFF;\n",
              "    }\n",
              "  </style>\n",
              "\n",
              "      <script>\n",
              "        const buttonEl =\n",
              "          document.querySelector('#df-63819f60-6e99-4a12-8d6f-ac9932b8e986 button.colab-df-convert');\n",
              "        buttonEl.style.display =\n",
              "          google.colab.kernel.accessAllowed ? 'block' : 'none';\n",
              "\n",
              "        async function convertToInteractive(key) {\n",
              "          const element = document.querySelector('#df-63819f60-6e99-4a12-8d6f-ac9932b8e986');\n",
              "          const dataTable =\n",
              "            await google.colab.kernel.invokeFunction('convertToInteractive',\n",
              "                                                     [key], {});\n",
              "          if (!dataTable) return;\n",
              "\n",
              "          const docLinkHtml = 'Like what you see? Visit the ' +\n",
              "            '<a target=\"_blank\" href=https://colab.research.google.com/notebooks/data_table.ipynb>data table notebook</a>'\n",
              "            + ' to learn more about interactive tables.';\n",
              "          element.innerHTML = '';\n",
              "          dataTable['output_type'] = 'display_data';\n",
              "          await google.colab.output.renderOutput(dataTable, element);\n",
              "          const docLink = document.createElement('div');\n",
              "          docLink.innerHTML = docLinkHtml;\n",
              "          element.appendChild(docLink);\n",
              "        }\n",
              "      </script>\n",
              "    </div>\n",
              "  </div>\n",
              "  "
            ]
          },
          "metadata": {},
          "execution_count": 7
        }
      ]
    },
    {
      "cell_type": "markdown",
      "source": [
        "Получается, что для каждого образца у нас только по две технические реплики. Оценивать только по двум точкам среднее и дисперсию ооочень странно, поэтому рисовать график дисперсии против среднего не буду (он не информативный)"
      ],
      "metadata": {
        "id": "06e2A1a4s-s6"
      }
    },
    {
      "cell_type": "code",
      "source": [
        "means=np.empty([1,24*df.shape[0]])\n",
        "vars=np.empty([1,24*df.shape[0]])\n",
        "for i in range(df.shape[1]//2):\n",
        "  means[0,i*df.shape[0]:(i+1)*df.shape[0]]=np.mean(df.iloc[:, i:i+4], axis=1).values\n",
        "  vars[0,i*df.shape[0]:(i+1)*df.shape[0]]=np.var(df.iloc[:,  i:i+4], axis=1).values"
      ],
      "metadata": {
        "id": "CnDQ7AgKs8Ni"
      },
      "execution_count": 52,
      "outputs": []
    },
    {
      "cell_type": "code",
      "source": [
        "means = means[vars > 0]\n",
        "vars = vars[vars > 0]\n",
        "means = np.log10(means)\n",
        "vars = np.log10(vars)"
      ],
      "metadata": {
        "id": "vOaY22IS-ppC"
      },
      "execution_count": 53,
      "outputs": []
    },
    {
      "cell_type": "code",
      "source": [
        "sns.set_style(\"ticks\")\n",
        "fig, ax = plt.subplots(figsize=(4, 4), dpi=100)\n",
        "\n",
        "ax.scatter(means, vars)\n",
        "ax.plot([-2, 10], [-2, 10], color=\"red\")\n",
        "ax.set_xlim(-2, 10)\n",
        "ax.set_ylim(-2, 10)\n",
        "ax.grid(alpha=0.3)\n",
        "\n",
        "ax.set_xlabel(\"log$_{10}$(Mean)\")\n",
        "ax.set_ylabel(\"log$_{10}$(Variance)\")"
      ],
      "metadata": {
        "colab": {
          "base_uri": "https://localhost:8080/",
          "height": 408
        },
        "id": "bdDd5VND-qEm",
        "outputId": "a1fe210a-d686-4609-9629-58afc587cf62"
      },
      "execution_count": 56,
      "outputs": [
        {
          "output_type": "execute_result",
          "data": {
            "text/plain": [
              "Text(0, 0.5, 'log$_{10}$(Variance)')"
            ]
          },
          "metadata": {},
          "execution_count": 56
        },
        {
          "output_type": "display_data",
          "data": {
            "text/plain": [
              "<Figure size 400x400 with 1 Axes>"
            ],
            "image/png": "[encoded data removed]"
          },
          "metadata": {}
        }
      ]
    },
    {
      "cell_type": "markdown",
      "source": [
        "###Задание 3.\n",
        "Проделайте подобную процедуру с каунтами генов, которые вы получили в результате анализа <a href=\"https://www.nature.com/articles/s41598-018-23226-4\">статьи</a> со сравнением методов подготовки библиотек для scRNA-Seq (`1Mh2T7YyWG9LPQsuNGy_IdYhbbzUgZUek`). Разберитесь, что в случае этой работы называют технической репликой. Актуально ли распределение Пуассона в случае таких технических реплик?"
      ],
      "metadata": {
        "id": "LP850bVhaSZr"
      }
    },
    {
      "cell_type": "markdown",
      "source": [
        "В этой статье для получения технических реплик из каждой аликвоты образца делали отдельную библиотеку. "
      ],
      "metadata": {
        "id": "QeR2TSdrylV_"
      }
    },
    {
      "cell_type": "code",
      "source": [
        "!gdown --id 1Mh2T7YyWG9LPQsuNGy_IdYhbbzUgZUek"
      ],
      "metadata": {
        "id": "0vjCk0aBaS1q",
        "colab": {
          "base_uri": "https://localhost:8080/"
        },
        "outputId": "870aebfd-3e6d-4cca-fe6c-186305fcc919"
      },
      "execution_count": 8,
      "outputs": [
        {
          "output_type": "stream",
          "name": "stdout",
          "text": [
            "/usr/local/lib/python3.7/dist-packages/gdown/cli.py:131: FutureWarning: Option `--id` was deprecated in version 4.3.1 and will be removed in 5.0. You don't need to pass it anymore to use a file ID.\n",
            "  category=FutureWarning,\n",
            "Downloading...\n",
            "From: https://drive.google.com/uc?id=1Mh2T7YyWG9LPQsuNGy_IdYhbbzUgZUek\n",
            "To: /content/polyA_total_counts.tsv\n",
            "100% 1.87M/1.87M [00:00<00:00, 131MB/s]\n"
          ]
        }
      ]
    },
    {
      "cell_type": "code",
      "source": [
        "# Прочтение датасета\n",
        "df2 = pd.read_csv(\"polyA_total_counts.tsv\", sep=\"\\t\")\n",
        "df2.index = df2['Unnamed: 0']\n",
        "del df2['Unnamed: 0']\n",
        "df2.head()"
      ],
      "metadata": {
        "colab": {
          "base_uri": "https://localhost:8080/",
          "height": 319
        },
        "id": "HCPhUbHX1BVH",
        "outputId": "3d239933-c97a-4112-e88b-a3d05f27f875"
      },
      "execution_count": 12,
      "outputs": [
        {
          "output_type": "execute_result",
          "data": {
            "text/plain": [
              "            colon_polyA_3  colon_polyA_4  colon_polyA_1  colon_polyA_2  \\\n",
              "Unnamed: 0                                                               \n",
              "MAFIP                   0              0              0              0   \n",
              "KIR3DL2                 0              0              0              0   \n",
              "KIR3DL2                 0              0              0              0   \n",
              "KIR3DL2                 0              0              0              0   \n",
              "KIR3DL2                 0              0              0              0   \n",
              "\n",
              "            colon_total_3  colon_total_4  colon_total_1  colon_total_2  \\\n",
              "Unnamed: 0                                                               \n",
              "MAFIP                   0              0              0              0   \n",
              "KIR3DL2                 0              0              0              0   \n",
              "KIR3DL2                 0              0              0              0   \n",
              "KIR3DL2                 0              0              0              0   \n",
              "KIR3DL2                 0              0              0              0   \n",
              "\n",
              "            pbmc_polyA_3  pbmc_polyA_4  pbmc_polyA_1  pbmc_polyA_2  \\\n",
              "Unnamed: 0                                                           \n",
              "MAFIP                  0             0             0             0   \n",
              "KIR3DL2                0             0             0             0   \n",
              "KIR3DL2                0             0             0             0   \n",
              "KIR3DL2                0             0             0             0   \n",
              "KIR3DL2                0             0             0             0   \n",
              "\n",
              "            pbmc_total_3  pbmc_total_4  pbmc_total_1  pbmc_total_2  \n",
              "Unnamed: 0                                                          \n",
              "MAFIP                  0             0             0             0  \n",
              "KIR3DL2                0             0             0             0  \n",
              "KIR3DL2                0             0             0             0  \n",
              "KIR3DL2                0             0             0             0  \n",
              "KIR3DL2                0             0             0             0  "
            ],
            "text/html": [
              "\n",
              "  <div id=\"df-b6683405-3f21-4be1-b00c-280dabd3d372\">\n",
              "    <div class=\"colab-df-container\">\n",
              "      <div>\n",
              "<style scoped>\n",
              "    .dataframe tbody tr th:only-of-type {\n",
              "        vertical-align: middle;\n",
              "    }\n",
              "\n",
              "    .dataframe tbody tr th {\n",
              "        vertical-align: top;\n",
              "    }\n",
              "\n",
              "    .dataframe thead th {\n",
              "        text-align: right;\n",
              "    }\n",
              "</style>\n",
              "<table border=\"1\" class=\"dataframe\">\n",
              "  <thead>\n",
              "    <tr style=\"text-align: right;\">\n",
              "      <th></th>\n",
              "      <th>colon_polyA_3</th>\n",
              "      <th>colon_polyA_4</th>\n",
              "      <th>colon_polyA_1</th>\n",
              "      <th>colon_polyA_2</th>\n",
              "      <th>colon_total_3</th>\n",
              "      <th>colon_total_4</th>\n",
              "      <th>colon_total_1</th>\n",
              "      <th>colon_total_2</th>\n",
              "      <th>pbmc_polyA_3</th>\n",
              "      <th>pbmc_polyA_4</th>\n",
              "      <th>pbmc_polyA_1</th>\n",
              "      <th>pbmc_polyA_2</th>\n",
              "      <th>pbmc_total_3</th>\n",
              "      <th>pbmc_total_4</th>\n",
              "      <th>pbmc_total_1</th>\n",
              "      <th>pbmc_total_2</th>\n",
              "    </tr>\n",
              "    <tr>\n",
              "      <th>Unnamed: 0</th>\n",
              "      <th></th>\n",
              "      <th></th>\n",
              "      <th></th>\n",
              "      <th></th>\n",
              "      <th></th>\n",
              "      <th></th>\n",
              "      <th></th>\n",
              "      <th></th>\n",
              "      <th></th>\n",
              "      <th></th>\n",
              "      <th></th>\n",
              "      <th></th>\n",
              "      <th></th>\n",
              "      <th></th>\n",
              "      <th></th>\n",
              "      <th></th>\n",
              "    </tr>\n",
              "  </thead>\n",
              "  <tbody>\n",
              "    <tr>\n",
              "      <th>MAFIP</th>\n",
              "      <td>0</td>\n",
              "      <td>0</td>\n",
              "      <td>0</td>\n",
              "      <td>0</td>\n",
              "      <td>0</td>\n",
              "      <td>0</td>\n",
              "      <td>0</td>\n",
              "      <td>0</td>\n",
              "      <td>0</td>\n",
              "      <td>0</td>\n",
              "      <td>0</td>\n",
              "      <td>0</td>\n",
              "      <td>0</td>\n",
              "      <td>0</td>\n",
              "      <td>0</td>\n",
              "      <td>0</td>\n",
              "    </tr>\n",
              "    <tr>\n",
              "      <th>KIR3DL2</th>\n",
              "      <td>0</td>\n",
              "      <td>0</td>\n",
              "      <td>0</td>\n",
              "      <td>0</td>\n",
              "      <td>0</td>\n",
              "      <td>0</td>\n",
              "      <td>0</td>\n",
              "      <td>0</td>\n",
              "      <td>0</td>\n",
              "      <td>0</td>\n",
              "      <td>0</td>\n",
              "      <td>0</td>\n",
              "      <td>0</td>\n",
              "      <td>0</td>\n",
              "      <td>0</td>\n",
              "      <td>0</td>\n",
              "    </tr>\n",
              "    <tr>\n",
              "      <th>KIR3DL2</th>\n",
              "      <td>0</td>\n",
              "      <td>0</td>\n",
              "      <td>0</td>\n",
              "      <td>0</td>\n",
              "      <td>0</td>\n",
              "      <td>0</td>\n",
              "      <td>0</td>\n",
              "      <td>0</td>\n",
              "      <td>0</td>\n",
              "      <td>0</td>\n",
              "      <td>0</td>\n",
              "      <td>0</td>\n",
              "      <td>0</td>\n",
              "      <td>0</td>\n",
              "      <td>0</td>\n",
              "      <td>0</td>\n",
              "    </tr>\n",
              "    <tr>\n",
              "      <th>KIR3DL2</th>\n",
              "      <td>0</td>\n",
              "      <td>0</td>\n",
              "      <td>0</td>\n",
              "      <td>0</td>\n",
              "      <td>0</td>\n",
              "      <td>0</td>\n",
              "      <td>0</td>\n",
              "      <td>0</td>\n",
              "      <td>0</td>\n",
              "      <td>0</td>\n",
              "      <td>0</td>\n",
              "      <td>0</td>\n",
              "      <td>0</td>\n",
              "      <td>0</td>\n",
              "      <td>0</td>\n",
              "      <td>0</td>\n",
              "    </tr>\n",
              "    <tr>\n",
              "      <th>KIR3DL2</th>\n",
              "      <td>0</td>\n",
              "      <td>0</td>\n",
              "      <td>0</td>\n",
              "      <td>0</td>\n",
              "      <td>0</td>\n",
              "      <td>0</td>\n",
              "      <td>0</td>\n",
              "      <td>0</td>\n",
              "      <td>0</td>\n",
              "      <td>0</td>\n",
              "      <td>0</td>\n",
              "      <td>0</td>\n",
              "      <td>0</td>\n",
              "      <td>0</td>\n",
              "      <td>0</td>\n",
              "      <td>0</td>\n",
              "    </tr>\n",
              "  </tbody>\n",
              "</table>\n",
              "</div>\n",
              "      <button class=\"colab-df-convert\" onclick=\"convertToInteractive('df-b6683405-3f21-4be1-b00c-280dabd3d372')\"\n",
              "              title=\"Convert this dataframe to an interactive table.\"\n",
              "              style=\"display:none;\">\n",
              "        \n",
              "  <svg xmlns=\"http://www.w3.org/2000/svg\" height=\"24px\"viewBox=\"0 0 24 24\"\n",
              "       width=\"24px\">\n",
              "    <path d=\"M0 0h24v24H0V0z\" fill=\"none\"/>\n",
              "    <path d=\"M18.56 5.44l.94 2.06.94-2.06 2.06-.94-2.06-.94-.94-2.06-.94 2.06-2.06.94zm-11 1L8.5 8.5l.94-2.06 2.06-.94-2.06-.94L8.5 2.5l-.94 2.06-2.06.94zm10 10l.94 2.06.94-2.06 2.06-.94-2.06-.94-.94-2.06-.94 2.06-2.06.94z\"/><path d=\"M17.41 7.96l-1.37-1.37c-.4-.4-.92-.59-1.43-.59-.52 0-1.04.2-1.43.59L10.3 9.45l-7.72 7.72c-.78.78-.78 2.05 0 2.83L4 21.41c.39.39.9.59 1.41.59.51 0 1.02-.2 1.41-.59l7.78-7.78 2.81-2.81c.8-.78.8-2.07 0-2.86zM5.41 20L4 18.59l7.72-7.72 1.47 1.35L5.41 20z\"/>\n",
              "  </svg>\n",
              "      </button>\n",
              "      \n",
              "  <style>\n",
              "    .colab-df-container {\n",
              "      display:flex;\n",
              "      flex-wrap:wrap;\n",
              "      gap: 12px;\n",
              "    }\n",
              "\n",
              "    .colab-df-convert {\n",
              "      background-color: #E8F0FE;\n",
              "      border: none;\n",
              "      border-radius: 50%;\n",
              "      cursor: pointer;\n",
              "      display: none;\n",
              "      fill: #1967D2;\n",
              "      height: 32px;\n",
              "      padding: 0 0 0 0;\n",
              "      width: 32px;\n",
              "    }\n",
              "\n",
              "    .colab-df-convert:hover {\n",
              "      background-color: #E2EBFA;\n",
              "      box-shadow: 0px 1px 2px rgba(60, 64, 67, 0.3), 0px 1px 3px 1px rgba(60, 64, 67, 0.15);\n",
              "      fill: #174EA6;\n",
              "    }\n",
              "\n",
              "    [theme=dark] .colab-df-convert {\n",
              "      background-color: #3B4455;\n",
              "      fill: #D2E3FC;\n",
              "    }\n",
              "\n",
              "    [theme=dark] .colab-df-convert:hover {\n",
              "      background-color: #434B5C;\n",
              "      box-shadow: 0px 1px 3px 1px rgba(0, 0, 0, 0.15);\n",
              "      filter: drop-shadow(0px 1px 2px rgba(0, 0, 0, 0.3));\n",
              "      fill: #FFFFFF;\n",
              "    }\n",
              "  </style>\n",
              "\n",
              "      <script>\n",
              "        const buttonEl =\n",
              "          document.querySelector('#df-b6683405-3f21-4be1-b00c-280dabd3d372 button.colab-df-convert');\n",
              "        buttonEl.style.display =\n",
              "          google.colab.kernel.accessAllowed ? 'block' : 'none';\n",
              "\n",
              "        async function convertToInteractive(key) {\n",
              "          const element = document.querySelector('#df-b6683405-3f21-4be1-b00c-280dabd3d372');\n",
              "          const dataTable =\n",
              "            await google.colab.kernel.invokeFunction('convertToInteractive',\n",
              "                                                     [key], {});\n",
              "          if (!dataTable) return;\n",
              "\n",
              "          const docLinkHtml = 'Like what you see? Visit the ' +\n",
              "            '<a target=\"_blank\" href=https://colab.research.google.com/notebooks/data_table.ipynb>data table notebook</a>'\n",
              "            + ' to learn more about interactive tables.';\n",
              "          element.innerHTML = '';\n",
              "          dataTable['output_type'] = 'display_data';\n",
              "          await google.colab.output.renderOutput(dataTable, element);\n",
              "          const docLink = document.createElement('div');\n",
              "          docLink.innerHTML = docLinkHtml;\n",
              "          element.appendChild(docLink);\n",
              "        }\n",
              "      </script>\n",
              "    </div>\n",
              "  </div>\n",
              "  "
            ]
          },
          "metadata": {},
          "execution_count": 12
        }
      ]
    },
    {
      "cell_type": "code",
      "source": [
        "#col_name=\"_\".join(df2.columns[i].split('_')[0:2])"
      ],
      "metadata": {
        "colab": {
          "base_uri": "https://localhost:8080/",
          "height": 35
        },
        "id": "hlmuG7cf3xzb",
        "outputId": "4d6035f3-6ae5-4dea-fdd3-25ea496d9214"
      },
      "execution_count": 30,
      "outputs": [
        {
          "output_type": "execute_result",
          "data": {
            "text/plain": [
              "'colon_polyA'"
            ],
            "application/vnd.google.colaboratory.intrinsic+json": {
              "type": "string"
            }
          },
          "metadata": {},
          "execution_count": 30
        }
      ]
    },
    {
      "cell_type": "code",
      "source": [
        "df2.shape"
      ],
      "metadata": {
        "colab": {
          "base_uri": "https://localhost:8080/"
        },
        "id": "4geh3vuM7Q5c",
        "outputId": "1f397678-9b63-4180-f363-b629509934a2"
      },
      "execution_count": 35,
      "outputs": [
        {
          "output_type": "execute_result",
          "data": {
            "text/plain": [
              "(21533, 16)"
            ]
          },
          "metadata": {},
          "execution_count": 35
        }
      ]
    },
    {
      "cell_type": "code",
      "source": [
        "means=np.empty([1,4*df2.shape[0]])\n",
        "vars=np.empty([1,4*df2.shape[0]])\n",
        "for i in range(df2.shape[1]//4):\n",
        "  means[0,i*df2.shape[0]:(i+1)*df2.shape[0]]=np.mean(df2.iloc[:, i:i+4], axis=1).values\n",
        "  vars[0,i*df2.shape[0]:(i+1)*df2.shape[0]]=np.var(df2.iloc[:,  i:i+4], axis=1).values"
      ],
      "metadata": {
        "id": "Z7u-swC919l4"
      },
      "execution_count": null,
      "outputs": []
    },
    {
      "cell_type": "code",
      "source": [
        "means = means[vars > 0]\n",
        "vars = vars[vars > 0]\n",
        "means = np.log10(means)\n",
        "vars = np.log10(vars)"
      ],
      "metadata": {
        "id": "zCjWbZQr9EV2"
      },
      "execution_count": null,
      "outputs": []
    },
    {
      "cell_type": "code",
      "source": [
        "sns.set_style(\"ticks\")\n",
        "fig, ax = plt.subplots(figsize=(4, 4), dpi=100)\n",
        "\n",
        "ax.scatter(means, vars)\n",
        "ax.plot([-2, 2], [-2, 2], color=\"red\")\n",
        "ax.set_xlim(-2, 2)\n",
        "ax.set_ylim(-2, 2)\n",
        "ax.grid(alpha=0.3)\n",
        "\n",
        "ax.set_xlabel(\"log$_{10}$(Mean)\")\n",
        "ax.set_ylabel(\"log$_{10}$(Variance)\")"
      ],
      "metadata": {
        "colab": {
          "base_uri": "https://localhost:8080/",
          "height": 408
        },
        "id": "3nSRjVCz84CG",
        "outputId": "9ad49ad3-66a1-444d-cc18-93c3c3f6b016"
      },
      "execution_count": 50,
      "outputs": [
        {
          "output_type": "execute_result",
          "data": {
            "text/plain": [
              "Text(0, 0.5, 'log$_{10}$(Variance)')"
            ]
          },
          "metadata": {},
          "execution_count": 50
        },
        {
          "output_type": "display_data",
          "data": {
            "text/plain": [
              "<Figure size 400x400 with 1 Axes>"
            ],
            "image/png": "[encoded data removed]"
          },
          "metadata": {}
        }
      ]
    }
  ]
}